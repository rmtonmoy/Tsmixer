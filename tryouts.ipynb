{
 "cells": [
  {
   "cell_type": "code",
   "execution_count": 33,
   "metadata": {},
   "outputs": [],
   "source": [
    "from cmath import isnan\n",
    "import pandas as pd\n",
    "covid_data = pd.read_csv(\"national-history.csv\")\n",
    "\n",
    "first_row = True\n",
    "\n",
    "covid_data_new = covid_data.iloc[::-1]\n",
    "cvoid_data_new = covid_data_new.reset_index()\n",
    "covid_data_new.to_csv(\"inter_covid.csv\", sep=',', index=False, encoding='utf-8')\n",
    "new_data = covid_data_new.copy()\n",
    "new_data = new_data.reset_index()\n",
    "new_data=new_data.drop(['index'],axis=1)\n",
    "\n",
    "prev = 0\n",
    "for index, row in new_data.iterrows():\n",
    "    if(isnan(new_data.iloc[index, new_data.columns.get_loc(\"death\")])):\n",
    "        new_data.iloc[index, new_data.columns.get_loc(\"death\")] = 0\n",
    "    else:\n",
    "        temp = new_data.iloc[index, new_data.columns.get_loc(\"death\")] \n",
    "        new_data.iloc[index, new_data.columns.get_loc(\"death\")] = new_data.iloc[index, new_data.columns.get_loc(\"death\")] - prev \n",
    "        prev = temp\n",
    "\n",
    "        \n",
    "new_data=new_data.drop(['deathIncrease'],axis=1)\n",
    "new_data=new_data.drop(['score'],axis=1)\n",
    "\n",
    "new_data.to_csv(\"covidData.csv\", sep=',', index=False, encoding='utf-8')\n"
   ]
  }
 ],
 "metadata": {
  "kernelspec": {
   "display_name": "pytorch_env",
   "language": "python",
   "name": "python3"
  },
  "language_info": {
   "codemirror_mode": {
    "name": "ipython",
    "version": 3
   },
   "file_extension": ".py",
   "mimetype": "text/x-python",
   "name": "python",
   "nbconvert_exporter": "python",
   "pygments_lexer": "ipython3",
   "version": "3.11.7"
  }
 },
 "nbformat": 4,
 "nbformat_minor": 2
}
